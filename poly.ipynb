{
 "cells": [
  {
   "cell_type": "code",
   "execution_count": 1,
   "metadata": {},
   "outputs": [],
   "source": [
    "import numpy as np\n",
    "import pandas as pd\n",
    "import matplotlib.pyplot as plt\n",
    "import seaborn as sn\n",
    "import datetime as dt\n",
    "import scipy.stats as sp\n",
    "from sklearn.model_selection import train_test_split\n",
    "from sklearn.linear_model import LinearRegression\n",
    "from sklearn import metrics\n",
    "from sklearn.metrics import mean_squared_error,r2_score"
   ]
  },
  {
   "cell_type": "code",
   "execution_count": 2,
   "metadata": {},
   "outputs": [],
   "source": [
    "data=pd.read_csv('Testing in Karnataka.csv')"
   ]
  },
  {
   "cell_type": "code",
   "execution_count": 3,
   "metadata": {},
   "outputs": [],
   "source": [
    "X = data['Day'].values.reshape(-1,1)"
   ]
  },
  {
   "cell_type": "code",
   "execution_count": 4,
   "metadata": {},
   "outputs": [],
   "source": [
    "Y=data['Positive Cumulative'].values.reshape(-1,1)"
   ]
  },
  {
   "cell_type": "code",
   "execution_count": 5,
   "metadata": {},
   "outputs": [
    {
     "data": {
      "text/html": [
       "<div>\n",
       "<style scoped>\n",
       "    .dataframe tbody tr th:only-of-type {\n",
       "        vertical-align: middle;\n",
       "    }\n",
       "\n",
       "    .dataframe tbody tr th {\n",
       "        vertical-align: top;\n",
       "    }\n",
       "\n",
       "    .dataframe thead th {\n",
       "        text-align: right;\n",
       "    }\n",
       "</style>\n",
       "<table border=\"1\" class=\"dataframe\">\n",
       "  <thead>\n",
       "    <tr style=\"text-align: right;\">\n",
       "      <th></th>\n",
       "      <th>Day</th>\n",
       "      <th>Samples</th>\n",
       "      <th>Samples Cumulative</th>\n",
       "      <th>Negative</th>\n",
       "      <th>Negative Cumulative</th>\n",
       "      <th>Positive</th>\n",
       "      <th>Positive Cumulative</th>\n",
       "    </tr>\n",
       "  </thead>\n",
       "  <tbody>\n",
       "    <tr>\n",
       "      <th>0</th>\n",
       "      <td>1</td>\n",
       "      <td>60</td>\n",
       "      <td>639</td>\n",
       "      <td>80</td>\n",
       "      <td>540</td>\n",
       "      <td>0</td>\n",
       "      <td>6</td>\n",
       "    </tr>\n",
       "    <tr>\n",
       "      <th>1</th>\n",
       "      <td>2</td>\n",
       "      <td>92</td>\n",
       "      <td>731</td>\n",
       "      <td>50</td>\n",
       "      <td>590</td>\n",
       "      <td>0</td>\n",
       "      <td>6</td>\n",
       "    </tr>\n",
       "    <tr>\n",
       "      <th>2</th>\n",
       "      <td>3</td>\n",
       "      <td>131</td>\n",
       "      <td>862</td>\n",
       "      <td>19</td>\n",
       "      <td>609</td>\n",
       "      <td>0</td>\n",
       "      <td>6</td>\n",
       "    </tr>\n",
       "    <tr>\n",
       "      <th>3</th>\n",
       "      <td>4</td>\n",
       "      <td>33</td>\n",
       "      <td>895</td>\n",
       "      <td>86</td>\n",
       "      <td>695</td>\n",
       "      <td>1</td>\n",
       "      <td>7</td>\n",
       "    </tr>\n",
       "    <tr>\n",
       "      <th>4</th>\n",
       "      <td>5</td>\n",
       "      <td>48</td>\n",
       "      <td>943</td>\n",
       "      <td>71</td>\n",
       "      <td>766</td>\n",
       "      <td>4</td>\n",
       "      <td>11</td>\n",
       "    </tr>\n",
       "    <tr>\n",
       "      <th>5</th>\n",
       "      <td>6</td>\n",
       "      <td>125</td>\n",
       "      <td>1068</td>\n",
       "      <td>103</td>\n",
       "      <td>869</td>\n",
       "      <td>3</td>\n",
       "      <td>14</td>\n",
       "    </tr>\n",
       "    <tr>\n",
       "      <th>6</th>\n",
       "      <td>7</td>\n",
       "      <td>75</td>\n",
       "      <td>1143</td>\n",
       "      <td>46</td>\n",
       "      <td>915</td>\n",
       "      <td>1</td>\n",
       "      <td>15</td>\n",
       "    </tr>\n",
       "    <tr>\n",
       "      <th>7</th>\n",
       "      <td>8</td>\n",
       "      <td>64</td>\n",
       "      <td>1207</td>\n",
       "      <td>55</td>\n",
       "      <td>970</td>\n",
       "      <td>0</td>\n",
       "      <td>15</td>\n",
       "    </tr>\n",
       "    <tr>\n",
       "      <th>8</th>\n",
       "      <td>9</td>\n",
       "      <td>170</td>\n",
       "      <td>1377</td>\n",
       "      <td>26</td>\n",
       "      <td>996</td>\n",
       "      <td>5</td>\n",
       "      <td>20</td>\n",
       "    </tr>\n",
       "    <tr>\n",
       "      <th>9</th>\n",
       "      <td>10</td>\n",
       "      <td>10</td>\n",
       "      <td>1387</td>\n",
       "      <td>112</td>\n",
       "      <td>1108</td>\n",
       "      <td>6</td>\n",
       "      <td>26</td>\n",
       "    </tr>\n",
       "    <tr>\n",
       "      <th>10</th>\n",
       "      <td>11</td>\n",
       "      <td>96</td>\n",
       "      <td>1477</td>\n",
       "      <td>45</td>\n",
       "      <td>1153</td>\n",
       "      <td>7</td>\n",
       "      <td>33</td>\n",
       "    </tr>\n",
       "    <tr>\n",
       "      <th>11</th>\n",
       "      <td>12</td>\n",
       "      <td>160</td>\n",
       "      <td>1637</td>\n",
       "      <td>43</td>\n",
       "      <td>1196</td>\n",
       "      <td>8</td>\n",
       "      <td>41</td>\n",
       "    </tr>\n",
       "    <tr>\n",
       "      <th>12</th>\n",
       "      <td>13</td>\n",
       "      <td>278</td>\n",
       "      <td>2438</td>\n",
       "      <td>175</td>\n",
       "      <td>2242</td>\n",
       "      <td>10</td>\n",
       "      <td>51</td>\n",
       "    </tr>\n",
       "    <tr>\n",
       "      <th>13</th>\n",
       "      <td>14</td>\n",
       "      <td>293</td>\n",
       "      <td>2731</td>\n",
       "      <td>190</td>\n",
       "      <td>2432</td>\n",
       "      <td>4</td>\n",
       "      <td>55</td>\n",
       "    </tr>\n",
       "    <tr>\n",
       "      <th>14</th>\n",
       "      <td>15</td>\n",
       "      <td>237</td>\n",
       "      <td>2838</td>\n",
       "      <td>150</td>\n",
       "      <td>2563</td>\n",
       "      <td>9</td>\n",
       "      <td>64</td>\n",
       "    </tr>\n",
       "    <tr>\n",
       "      <th>15</th>\n",
       "      <td>16</td>\n",
       "      <td>195</td>\n",
       "      <td>3076</td>\n",
       "      <td>141</td>\n",
       "      <td>2763</td>\n",
       "      <td>12</td>\n",
       "      <td>76</td>\n",
       "    </tr>\n",
       "    <tr>\n",
       "      <th>16</th>\n",
       "      <td>17</td>\n",
       "      <td>179</td>\n",
       "      <td>3170</td>\n",
       "      <td>229</td>\n",
       "      <td>2874</td>\n",
       "      <td>7</td>\n",
       "      <td>83</td>\n",
       "    </tr>\n",
       "    <tr>\n",
       "      <th>17</th>\n",
       "      <td>18</td>\n",
       "      <td>172</td>\n",
       "      <td>3242</td>\n",
       "      <td>207</td>\n",
       "      <td>3025</td>\n",
       "      <td>5</td>\n",
       "      <td>88</td>\n",
       "    </tr>\n",
       "    <tr>\n",
       "      <th>18</th>\n",
       "      <td>19</td>\n",
       "      <td>206</td>\n",
       "      <td>3535</td>\n",
       "      <td>198</td>\n",
       "      <td>3297</td>\n",
       "      <td>13</td>\n",
       "      <td>101</td>\n",
       "    </tr>\n",
       "    <tr>\n",
       "      <th>19</th>\n",
       "      <td>20</td>\n",
       "      <td>244</td>\n",
       "      <td>3799</td>\n",
       "      <td>182</td>\n",
       "      <td>3479</td>\n",
       "      <td>9</td>\n",
       "      <td>110</td>\n",
       "    </tr>\n",
       "    <tr>\n",
       "      <th>20</th>\n",
       "      <td>21</td>\n",
       "      <td>384</td>\n",
       "      <td>4181</td>\n",
       "      <td>235</td>\n",
       "      <td>3910</td>\n",
       "      <td>14</td>\n",
       "      <td>124</td>\n",
       "    </tr>\n",
       "    <tr>\n",
       "      <th>21</th>\n",
       "      <td>22</td>\n",
       "      <td>344</td>\n",
       "      <td>4587</td>\n",
       "      <td>321</td>\n",
       "      <td>4281</td>\n",
       "      <td>4</td>\n",
       "      <td>128</td>\n",
       "    </tr>\n",
       "    <tr>\n",
       "      <th>22</th>\n",
       "      <td>23</td>\n",
       "      <td>400</td>\n",
       "      <td>5061</td>\n",
       "      <td>304</td>\n",
       "      <td>4566</td>\n",
       "      <td>16</td>\n",
       "      <td>144</td>\n",
       "    </tr>\n",
       "    <tr>\n",
       "      <th>23</th>\n",
       "      <td>24</td>\n",
       "      <td>482</td>\n",
       "      <td>5543</td>\n",
       "      <td>471</td>\n",
       "      <td>5037</td>\n",
       "      <td>7</td>\n",
       "      <td>151</td>\n",
       "    </tr>\n",
       "    <tr>\n",
       "      <th>24</th>\n",
       "      <td>25</td>\n",
       "      <td>325</td>\n",
       "      <td>5958</td>\n",
       "      <td>324</td>\n",
       "      <td>5503</td>\n",
       "      <td>12</td>\n",
       "      <td>163</td>\n",
       "    </tr>\n",
       "    <tr>\n",
       "      <th>25</th>\n",
       "      <td>26</td>\n",
       "      <td>617</td>\n",
       "      <td>6580</td>\n",
       "      <td>437</td>\n",
       "      <td>5942</td>\n",
       "      <td>12</td>\n",
       "      <td>175</td>\n",
       "    </tr>\n",
       "    <tr>\n",
       "      <th>26</th>\n",
       "      <td>27</td>\n",
       "      <td>516</td>\n",
       "      <td>6967</td>\n",
       "      <td>424</td>\n",
       "      <td>6473</td>\n",
       "      <td>6</td>\n",
       "      <td>181</td>\n",
       "    </tr>\n",
       "    <tr>\n",
       "      <th>27</th>\n",
       "      <td>28</td>\n",
       "      <td>572</td>\n",
       "      <td>7613</td>\n",
       "      <td>656</td>\n",
       "      <td>7176</td>\n",
       "      <td>16</td>\n",
       "      <td>197</td>\n",
       "    </tr>\n",
       "    <tr>\n",
       "      <th>28</th>\n",
       "      <td>29</td>\n",
       "      <td>574</td>\n",
       "      <td>7975</td>\n",
       "      <td>497</td>\n",
       "      <td>7673</td>\n",
       "      <td>10</td>\n",
       "      <td>207</td>\n",
       "    </tr>\n",
       "    <tr>\n",
       "      <th>29</th>\n",
       "      <td>30</td>\n",
       "      <td>585</td>\n",
       "      <td>8560</td>\n",
       "      <td>558</td>\n",
       "      <td>8231</td>\n",
       "      <td>8</td>\n",
       "      <td>215</td>\n",
       "    </tr>\n",
       "  </tbody>\n",
       "</table>\n",
       "</div>"
      ],
      "text/plain": [
       "    Day  Samples  Samples Cumulative  Negative  Negative Cumulative  Positive  \\\n",
       "0     1       60                 639        80                  540         0   \n",
       "1     2       92                 731        50                  590         0   \n",
       "2     3      131                 862        19                  609         0   \n",
       "3     4       33                 895        86                  695         1   \n",
       "4     5       48                 943        71                  766         4   \n",
       "5     6      125                1068       103                  869         3   \n",
       "6     7       75                1143        46                  915         1   \n",
       "7     8       64                1207        55                  970         0   \n",
       "8     9      170                1377        26                  996         5   \n",
       "9    10       10                1387       112                 1108         6   \n",
       "10   11       96                1477        45                 1153         7   \n",
       "11   12      160                1637        43                 1196         8   \n",
       "12   13      278                2438       175                 2242        10   \n",
       "13   14      293                2731       190                 2432         4   \n",
       "14   15      237                2838       150                 2563         9   \n",
       "15   16      195                3076       141                 2763        12   \n",
       "16   17      179                3170       229                 2874         7   \n",
       "17   18      172                3242       207                 3025         5   \n",
       "18   19      206                3535       198                 3297        13   \n",
       "19   20      244                3799       182                 3479         9   \n",
       "20   21      384                4181       235                 3910        14   \n",
       "21   22      344                4587       321                 4281         4   \n",
       "22   23      400                5061       304                 4566        16   \n",
       "23   24      482                5543       471                 5037         7   \n",
       "24   25      325                5958       324                 5503        12   \n",
       "25   26      617                6580       437                 5942        12   \n",
       "26   27      516                6967       424                 6473         6   \n",
       "27   28      572                7613       656                 7176        16   \n",
       "28   29      574                7975       497                 7673        10   \n",
       "29   30      585                8560       558                 8231         8   \n",
       "\n",
       "    Positive Cumulative  \n",
       "0                     6  \n",
       "1                     6  \n",
       "2                     6  \n",
       "3                     7  \n",
       "4                    11  \n",
       "5                    14  \n",
       "6                    15  \n",
       "7                    15  \n",
       "8                    20  \n",
       "9                    26  \n",
       "10                   33  \n",
       "11                   41  \n",
       "12                   51  \n",
       "13                   55  \n",
       "14                   64  \n",
       "15                   76  \n",
       "16                   83  \n",
       "17                   88  \n",
       "18                  101  \n",
       "19                  110  \n",
       "20                  124  \n",
       "21                  128  \n",
       "22                  144  \n",
       "23                  151  \n",
       "24                  163  \n",
       "25                  175  \n",
       "26                  181  \n",
       "27                  197  \n",
       "28                  207  \n",
       "29                  215  "
      ]
     },
     "execution_count": 5,
     "metadata": {},
     "output_type": "execute_result"
    }
   ],
   "source": [
    "data"
   ]
  },
  {
   "cell_type": "code",
   "execution_count": 6,
   "metadata": {},
   "outputs": [],
   "source": [
    "regressor = LinearRegression()"
   ]
  },
  {
   "cell_type": "code",
   "execution_count": 7,
   "metadata": {},
   "outputs": [
    {
     "data": {
      "text/plain": [
       "LinearRegression()"
      ]
     },
     "execution_count": 7,
     "metadata": {},
     "output_type": "execute_result"
    }
   ],
   "source": [
    "regressor.fit(X,Y)"
   ]
  },
  {
   "cell_type": "code",
   "execution_count": 8,
   "metadata": {},
   "outputs": [],
   "source": [
    "y_pred=regressor.predict(X)"
   ]
  },
  {
   "cell_type": "code",
   "execution_count": 9,
   "metadata": {},
   "outputs": [
    {
     "data": {
      "image/png": "[encoded data removed]",
      "text/plain": [
       "<Figure size 432x288 with 1 Axes>"
      ]
     },
     "metadata": {
      "needs_background": "light"
     },
     "output_type": "display_data"
    }
   ],
   "source": [
    "plt.scatter(X, Y, color = 'magenta')\n",
    "plt.plot(X, y_pred, color = 'green')\n",
    "plt.title('Daywise confirmed case in Karnataka')\n",
    "plt.xlabel('NoofDay')\n",
    "plt.ylabel('Confirmed case')\n",
    "plt.show()\n"
   ]
  },
  {
   "cell_type": "code",
   "execution_count": 10,
   "metadata": {},
   "outputs": [],
   "source": [
    "from sklearn.preprocessing import PolynomialFeatures"
   ]
  },
  {
   "cell_type": "code",
   "execution_count": 21,
   "metadata": {},
   "outputs": [],
   "source": [
    "poly=PolynomialFeatures(degree = 2)"
   ]
  },
  {
   "cell_type": "code",
   "execution_count": 22,
   "metadata": {},
   "outputs": [],
   "source": [
    "X_poly = poly.fit_transform(X)\n",
    "regressor = LinearRegression()\n",
    "regressor.fit(X_poly,Y)\n",
    "y_poly_pred=regressor.predict(X_poly)\n"
   ]
  },
  {
   "cell_type": "code",
   "execution_count": 23,
   "metadata": {},
   "outputs": [
    {
     "data": {
      "image/png": "[encoded data removed]",
      "text/plain": [
       "<Figure size 432x288 with 1 Axes>"
      ]
     },
     "metadata": {
      "needs_background": "light"
     },
     "output_type": "display_data"
    }
   ],
   "source": [
    "plt.scatter(X, Y, color = 'magenta')\n",
    "plt.plot(X, y_poly_pred, color = 'green')\n",
    "plt.title('Daywise confirmed case in Karnataka')\n",
    "plt.xlabel('No of Day')\n",
    "plt.ylabel('Confirmed Cases')\n",
    "plt.show()\n"
   ]
  },
  {
   "cell_type": "code",
   "execution_count": 24,
   "metadata": {},
   "outputs": [
    {
     "name": "stdout",
     "output_type": "stream",
     "text": [
      "RMSE is 4.008063539348158\n",
      "r2 is 0.9965534399644936\n"
     ]
    }
   ],
   "source": [
    "rmse = np.sqrt(mean_squared_error(Y,y_poly_pred))\n",
    "r2 = r2_score(Y,y_poly_pred)\n",
    "print('RMSE is ' + str(rmse))\n",
    "print('r2 is ' +str(r2))"
   ]
  },
  {
   "cell_type": "code",
   "execution_count": 25,
   "metadata": {},
   "outputs": [
    {
     "data": {
      "text/plain": [
       "array([[15.61685603]])"
      ]
     },
     "execution_count": 25,
     "metadata": {},
     "output_type": "execute_result"
    }
   ],
   "source": [
    "regressor.predict(poly.fit_transform([[6.5]]))"
   ]
  },
  {
   "cell_type": "code",
   "execution_count": 26,
   "metadata": {},
   "outputs": [
    {
     "data": {
      "text/plain": [
       "array([[0.        , 1.32475767, 0.20602256]])"
      ]
     },
     "execution_count": 26,
     "metadata": {},
     "output_type": "execute_result"
    }
   ],
   "source": [
    "regressor.coef_"
   ]
  },
  {
   "cell_type": "code",
   "execution_count": null,
   "metadata": {},
   "outputs": [],
   "source": []
  }
 ],
 "metadata": {
  "kernelspec": {
   "display_name": "Python 3",
   "language": "python",
   "name": "python3"
  },
  "language_info": {
   "codemirror_mode": {
    "name": "ipython",
    "version": 3
   },
   "file_extension": ".py",
   "mimetype": "text/x-python",
   "name": "python",
   "nbconvert_exporter": "python",
   "pygments_lexer": "ipython3",
   "version": "3.8.3"
  }
 },
 "nbformat": 4,
 "nbformat_minor": 4
}
